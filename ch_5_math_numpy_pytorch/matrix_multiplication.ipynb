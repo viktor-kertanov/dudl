{
 "cells": [
  {
   "cell_type": "code",
   "execution_count": 1,
   "metadata": {},
   "outputs": [],
   "source": [
    "import numpy as np\n",
    "import torch"
   ]
  },
  {
   "cell_type": "code",
   "execution_count": 5,
   "metadata": {},
   "outputs": [
    {
     "name": "stdout",
     "output_type": "stream",
     "text": [
      "[[ 2.06  0.92  0.01  0.37  0.02 -0.02  0.85]\n",
      " [-0.55  1.23  2.4   0.02 -0.99 -0.05 -0.01]\n",
      " [-0.02  1.73 -0.57 -0.89  0.61 -0.6   0.05]] \n",
      "\n",
      "\n",
      "[[-0.35 -0.2   4.66 -0.51 -0.55]\n",
      " [-0.55  1.78 -1.52  0.13 -0.22]\n",
      " [ 1.67 -1.85 -1.51  0.61 -1.95]] \n",
      "\n",
      "\n",
      "[[-0.35 -0.2   4.66 -0.51 -0.55]\n",
      " [-0.55  1.78 -1.52  0.13 -0.22]\n",
      " [ 1.67 -1.85 -1.51  0.61 -1.95]] \n",
      "\n",
      "\n",
      "[[-0.31 -0.87  3.19  3.23]\n",
      " [-0.91 -0.04 -2.49  2.94]\n",
      " [-2.19  1.01  0.38 -0.59]\n",
      " [ 0.01  0.08  1.58 -1.03]\n",
      " [-0.28  1.25  0.71 -5.46]\n",
      " [ 0.   -0.57 -0.1   2.63]\n",
      " [ 0.05  0.5  -0.55 -2.14]] \n",
      "\n",
      "\n"
     ]
    }
   ],
   "source": [
    "A = np.random.randn(3,4)\n",
    "B = np.random.randn(4,5)\n",
    "C = np.random.randn(3,7)\n",
    "D = np.random.randn(3,7)\n",
    "\n",
    "# remember that this is different thing than matrix multiplication, it's just a multiplying the elements of the same index\n",
    "print(np.round(C*D, 2), '\\n\\n')\n",
    "\n",
    "print(np.round(A@B, 2), '\\n\\n')\n",
    "print(np.round(np.matmul(A,B), 2), '\\n\\n') # the same as A@B\n",
    "print(np.round(C.T@A, 2), '\\n\\n')\n",
    "# print(np.round(B@C, 2), '\\n\\n')"
   ]
  },
  {
   "attachments": {},
   "cell_type": "markdown",
   "metadata": {},
   "source": [
    "## __Pytorch__"
   ]
  },
  {
   "cell_type": "code",
   "execution_count": 7,
   "metadata": {},
   "outputs": [
    {
     "name": "stdout",
     "output_type": "stream",
     "text": [
      "tensor([[-0.6000,  1.6000,  1.8000, -1.6000, -0.0000],\n",
      "        [-1.2000,  4.1000,  5.5000, -4.8000, -0.1000],\n",
      "        [ 0.6000,  0.9000,  6.9000, -0.3000,  0.2000]]) \n",
      "\n",
      "\n",
      "tensor([[ 1.9000,  0.4000, -0.5000,  0.3000, -0.1000,  0.0000,  0.6000],\n",
      "        [ 5.6000,  1.1000, -1.9000,  0.8000, -1.6000, -0.5000,  1.0000],\n",
      "        [ 1.7000,  0.5000, -4.8000,  0.4000, -3.5000,  2.0000, -2.6000]],\n",
      "       dtype=torch.float64) \n",
      "\n",
      "\n",
      "tensor([[ 1.9000,  0.4000, -0.5000,  0.3000, -0.1000,  0.0000,  0.6000],\n",
      "        [ 5.6000,  1.1000, -1.9000,  0.8000, -1.6000, -0.5000,  1.0000],\n",
      "        [ 1.7000,  0.5000, -4.8000,  0.4000, -3.5000,  2.0000, -2.6000]]) \n",
      "\n",
      "\n"
     ]
    }
   ],
   "source": [
    "A = torch.randn(3,4)\n",
    "B = torch.randn(4,5)\n",
    "C1 = np.random.randn(4, 7)\n",
    "C2 = torch.tensor(C1, dtype=torch.float)\n",
    "\n",
    "# some multiplications\n",
    "print(np.round(A@B, 1), '\\n\\n')\n",
    "print(np.round(A@C1, 1), '\\n\\n')\n",
    "print(np.round(A@C2, 1), '\\n\\n')"
   ]
  }
 ],
 "metadata": {
  "kernelspec": {
   "display_name": "env",
   "language": "python",
   "name": "python3"
  },
  "language_info": {
   "codemirror_mode": {
    "name": "ipython",
    "version": 3
   },
   "file_extension": ".py",
   "mimetype": "text/x-python",
   "name": "python",
   "nbconvert_exporter": "python",
   "pygments_lexer": "ipython3",
   "version": "3.10.0"
  },
  "orig_nbformat": 4,
  "vscode": {
   "interpreter": {
    "hash": "d75b682890b2ab8852af34e2c3be0f2cf4b8469624d7ea85fe5a980f1d0dea19"
   }
  }
 },
 "nbformat": 4,
 "nbformat_minor": 2
}
