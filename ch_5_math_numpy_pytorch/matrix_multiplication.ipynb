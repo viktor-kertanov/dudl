{
 "cells": [
  {
   "cell_type": "code",
   "execution_count": 1,
   "metadata": {},
   "outputs": [],
   "source": [
    "import numpy as np\n",
    "import torch"
   ]
  },
  {
   "cell_type": "code",
   "execution_count": 10,
   "metadata": {},
   "outputs": [
    {
     "name": "stdout",
     "output_type": "stream",
     "text": [
      "[[-0.31  0.09  0.79 -0.71  0.11 -0.03 -0.05]\n",
      " [ 0.33 -0.29 -1.83 -0.37 -0.48  0.9   0.14]\n",
      " [ 0.62  0.01 -0.43  0.7   0.04  1.53  0.32]] \n",
      "\n",
      "\n",
      "[[-2.51  0.94 -2.45  0.05  0.73]\n",
      " [-1.52  0.04  1.45  2.36 -0.42]\n",
      " [ 1.18 -2.25 -5.91 -7.98  1.2 ]] \n",
      "\n",
      "\n",
      "[[-2.51  0.94 -2.45  0.05  0.73]\n",
      " [-1.52  0.04  1.45  2.36 -0.42]\n",
      " [ 1.18 -2.25 -5.91 -7.98  1.2 ]] \n",
      "\n",
      "\n",
      "[[-3.73 -0.06 -2.59  4.18]\n",
      " [-0.33 -0.97  0.39  0.68]\n",
      " [-0.48  1.72 -1.56 -0.  ]\n",
      " [-1.01 -2.49 -5.95  2.92]\n",
      " [-0.44 -0.31 -1.56  0.8 ]\n",
      " [-3.57 -1.46 -3.96  4.79]\n",
      " [ 1.43  0.22  1.97 -1.82]] \n",
      "\n",
      "\n"
     ]
    }
   ],
   "source": [
    "A = np.random.randn(3,4)\n",
    "B = np.random.randn(4,5)\n",
    "C = np.random.randn(3,7)\n",
    "D = np.random.randn(3,7)\n",
    "\n",
    "# remember that this is different thing than matrix multiplication, it's just a multiplying the elements of the same index\n",
    "print(np.round(C*D, 2), '\\n\\n')\n",
    "\n",
    "print(np.round(A@B, 2), '\\n\\n')\n",
    "print(np.round(np.matmul(A,B), 2), '\\n\\n') # the same as A@B\n",
    "print(np.round(C.T@A, 2), '\\n\\n')\n",
    "# print(np.round(B@C, 2), '\\n\\n')"
   ]
  },
  {
   "attachments": {},
   "cell_type": "markdown",
   "metadata": {},
   "source": [
    "## __Pytorch__"
   ]
  },
  {
   "cell_type": "code",
   "execution_count": 15,
   "metadata": {},
   "outputs": [
    {
     "name": "stdout",
     "output_type": "stream",
     "text": [
      "tensor([[-3.1000,  1.1000,  1.0000,  0.9000,  3.4000],\n",
      "        [ 0.4000, -0.5000, -0.9000,  0.2000,  0.3000],\n",
      "        [ 0.1000, -1.4000, -1.1000, -1.6000, -0.0000]]) \n",
      "\n",
      "\n",
      "tensor([[-3.9000, -0.9000, -3.4000, -1.8000,  0.8000, -4.2000, -2.4000],\n",
      "        [ 1.7000, -0.2000,  1.1000,  0.7000, -1.9000, -0.6000,  1.4000],\n",
      "        [-0.2000,  2.8000,  2.7000,  0.0000,  3.1000,  1.5000, -2.9000]],\n",
      "       dtype=torch.float64) \n",
      "\n",
      "\n",
      "tensor([[-3.9000, -0.9000, -3.4000, -1.8000,  0.8000, -4.2000, -2.4000],\n",
      "        [ 1.7000, -0.2000,  1.1000,  0.7000, -1.9000, -0.6000,  1.4000],\n",
      "        [-0.2000,  2.8000,  2.7000,  0.0000,  3.1000,  1.5000, -2.9000]]) \n",
      "\n",
      "\n"
     ]
    }
   ],
   "source": [
    "A = torch.randn(3,4)\n",
    "B = torch.randn(4,5)\n",
    "C1 = np.random.randn(4, 7)\n",
    "C2 = torch.tensor(C1, dtype=torch.float)\n",
    "\n",
    "# some multiplications\n",
    "print(np.round(A@B, 1), '\\n\\n')\n",
    "print(np.round(A@C1, 1), '\\n\\n')\n",
    "print(np.round(A@C2, 1), '\\n\\n')"
   ]
  }
 ],
 "metadata": {
  "kernelspec": {
   "display_name": "env",
   "language": "python",
   "name": "python3"
  },
  "language_info": {
   "codemirror_mode": {
    "name": "ipython",
    "version": 3
   },
   "file_extension": ".py",
   "mimetype": "text/x-python",
   "name": "python",
   "nbconvert_exporter": "python",
   "pygments_lexer": "ipython3",
   "version": "3.10.10"
  },
  "orig_nbformat": 4,
  "vscode": {
   "interpreter": {
    "hash": "d75b682890b2ab8852af34e2c3be0f2cf4b8469624d7ea85fe5a980f1d0dea19"
   }
  }
 },
 "nbformat": 4,
 "nbformat_minor": 2
}
