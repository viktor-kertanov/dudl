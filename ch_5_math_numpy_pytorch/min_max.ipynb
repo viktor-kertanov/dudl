{
 "cells": [
  {
   "cell_type": "code",
   "execution_count": 1,
   "metadata": {},
   "outputs": [],
   "source": [
    "import numpy as np\n",
    "import torch\n",
    "import torch.nn as nn"
   ]
  },
  {
   "cell_type": "code",
   "execution_count": 2,
   "metadata": {},
   "outputs": [
    {
     "name": "stdout",
     "output_type": "stream",
     "text": [
      "-5\n",
      "[-5  1  5]\n",
      "[-5  2]\n"
     ]
    }
   ],
   "source": [
    "M = np.array([\n",
    "    [-5, 1, 10],\n",
    "    [2, 8, 5]\n",
    "])\n",
    "\n",
    "global_min = np.min(M)\n",
    "print(global_min)\n",
    "\n",
    "min_in_cols = np.min(M, axis = 0)\n",
    "print(min_in_cols)\n",
    "\n",
    "min_in_rows = np.min(M, axis = 1)\n",
    "print(min_in_rows)"
   ]
  },
  {
   "cell_type": "code",
   "execution_count": 3,
   "metadata": {},
   "outputs": [
    {
     "name": "stdout",
     "output_type": "stream",
     "text": [
      "tensor([-5.,  1.,  5.])\n",
      "tensor([0, 0, 1])\n"
     ]
    }
   ],
   "source": [
    "min_in_cols_t = torch.min(torch.Tensor(M), axis=0)\n",
    "\n",
    "print(min_in_cols_t.values)\n",
    "print(min_in_cols_t.indices)"
   ]
  }
 ],
 "metadata": {
  "kernelspec": {
   "display_name": "env",
   "language": "python",
   "name": "python3"
  },
  "language_info": {
   "codemirror_mode": {
    "name": "ipython",
    "version": 3
   },
   "file_extension": ".py",
   "mimetype": "text/x-python",
   "name": "python",
   "nbconvert_exporter": "python",
   "pygments_lexer": "ipython3",
   "version": "3.10.0"
  },
  "orig_nbformat": 4
 },
 "nbformat": 4,
 "nbformat_minor": 2
}
