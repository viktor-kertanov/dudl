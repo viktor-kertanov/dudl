{
 "cells": [
  {
   "cell_type": "code",
   "execution_count": 15,
   "metadata": {},
   "outputs": [],
   "source": [
    "import numpy as np\n",
    "import torch"
   ]
  },
  {
   "cell_type": "code",
   "execution_count": 12,
   "metadata": {},
   "outputs": [
    {
     "name": "stdout",
     "output_type": "stream",
     "text": [
      "[[1 2 3 4]\n",
      " [5 6 7 8]] \n",
      "\n",
      "\n",
      "[[1 5]\n",
      " [2 6]\n",
      " [3 7]\n",
      " [4 8]] \n",
      "\n",
      "\n",
      "[[1 2 3 4]\n",
      " [5 6 7 8]] \n",
      "\n",
      "\n"
     ]
    }
   ],
   "source": [
    "# creating a matrix\n",
    "np_matrix = np.array([\n",
    "    [1,2,3,4],\n",
    "    [5,6,7,8]\n",
    "    ])\n",
    "\n",
    "# printing the original matrix\n",
    "print(np_matrix, '\\n\\n')\n",
    "\n",
    "# transposing, trans-trans matrix\n",
    "print(np_matrix.T, '\\n\\n')\n",
    "print(np_matrix.T.T, '\\n\\n')"
   ]
  },
  {
   "attachments": {},
   "cell_type": "markdown",
   "metadata": {},
   "source": [
    "### __Pytorch__"
   ]
  },
  {
   "cell_type": "code",
   "execution_count": 20,
   "metadata": {},
   "outputs": [
    {
     "name": "stdout",
     "output_type": "stream",
     "text": [
      "tensor([1, 2, 3, 4]) \n",
      "\n",
      "\n",
      "tensor([1, 2, 3, 4]) \n",
      "\n",
      "\n",
      "tensor([1, 2, 3, 4]) \n",
      "\n",
      "\n"
     ]
    }
   ],
   "source": [
    "pt_vector = torch.tensor(\n",
    "    [1,2,3,4]\n",
    "    )\n",
    "\n",
    "# printing the original matrix\n",
    "print(pt_vector, '\\n\\n')\n",
    "\n",
    "# transposing, trans-trans matrix\n",
    "print(pt_vector.T, '\\n\\n')\n",
    "print(pt_vector.T.T, '\\n\\n')"
   ]
  },
  {
   "cell_type": "code",
   "execution_count": 17,
   "metadata": {},
   "outputs": [
    {
     "name": "stdout",
     "output_type": "stream",
     "text": [
      "tensor([[1, 2, 3, 4],\n",
      "        [5, 6, 7, 8]]) \n",
      "\n",
      "\n",
      "tensor([[1, 5],\n",
      "        [2, 6],\n",
      "        [3, 7],\n",
      "        [4, 8]]) \n",
      "\n",
      "\n",
      "tensor([[1, 2, 3, 4],\n",
      "        [5, 6, 7, 8]]) \n",
      "\n",
      "\n"
     ]
    }
   ],
   "source": [
    "# creating a matrix\n",
    "pt_matrix = torch.tensor([\n",
    "    [1,2,3,4],\n",
    "    [5,6,7,8]\n",
    "    ])\n",
    "\n",
    "# printing the original matrix\n",
    "print(pt_matrix, '\\n\\n')\n",
    "\n",
    "# transposing, trans-trans matrix\n",
    "print(pt_matrix.T, '\\n\\n')\n",
    "print(pt_matrix.T.T, '\\n\\n')"
   ]
  }
 ],
 "metadata": {
  "kernelspec": {
   "display_name": "env",
   "language": "python",
   "name": "python3"
  },
  "language_info": {
   "codemirror_mode": {
    "name": "ipython",
    "version": 3
   },
   "file_extension": ".py",
   "mimetype": "text/x-python",
   "name": "python",
   "nbconvert_exporter": "python",
   "pygments_lexer": "ipython3",
   "version": "3.10.0"
  },
  "orig_nbformat": 4,
  "vscode": {
   "interpreter": {
    "hash": "d75b682890b2ab8852af34e2c3be0f2cf4b8469624d7ea85fe5a980f1d0dea19"
   }
  }
 },
 "nbformat": 4,
 "nbformat_minor": 2
}
